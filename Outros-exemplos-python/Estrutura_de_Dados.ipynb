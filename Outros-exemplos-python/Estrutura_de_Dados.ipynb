{
 "cells": [
  {
   "cell_type": "markdown",
   "metadata": {},
   "source": [
    "# Estrutura de Dados"
   ]
  },
  {
   "cell_type": "markdown",
   "metadata": {},
   "source": [
    "## Métodos para listas"
   ]
  },
  {
   "cell_type": "code",
   "execution_count": 1,
   "metadata": {},
   "outputs": [
    {
     "name": "stdout",
     "output_type": "stream",
     "text": [
      "[1, 2, 3, 4, 5, [6, 7, 8]]\n"
     ]
    },
    {
     "data": {
      "text/plain": [
       "6"
      ]
     },
     "execution_count": 1,
     "metadata": {},
     "output_type": "execute_result"
    }
   ],
   "source": [
    "lista_inteiros = [1,2,3,4,5]\n",
    "lista_2 = [6,7,8]\n",
    "\n",
    "# Adicionando a variável no final com, -> .append() cria uma \"lista dentro de outra lista\"\n",
    "lista_inteiros.append(lista_2)\n",
    "\n",
    "print(lista_inteiros)\n",
    "len(lista_inteiros)"
   ]
  },
  {
   "cell_type": "code",
   "execution_count": 2,
   "metadata": {},
   "outputs": [
    {
     "name": "stdout",
     "output_type": "stream",
     "text": [
      "[1, 2, 3, 4, 5, 6, 7, 8, 9, 10, 11, 12, 13, 14, 15, 16, 17, 18, 19, 20]\n"
     ]
    },
    {
     "data": {
      "text/plain": [
       "20"
      ]
     },
     "execution_count": 2,
     "metadata": {},
     "output_type": "execute_result"
    }
   ],
   "source": [
    "lista_inteiros_2 = [1,2,3,4,5,6,7,8,9]\n",
    "lista_extra = [10,11,12,13,14,15,16,17,18,19,20]\n",
    "\n",
    "\"\"\"Podemos também usar o método -> .extend()  esse método \n",
    "adciona os elementos ao final também porem ele adciona direto a lista \n",
    "direcionada o metodo -> .append() coloca uma lista dentro da lista \"\"\" \n",
    "lista_inteiros_2.extend(lista_extra)\n",
    "\n",
    "print(lista_inteiros_2)\n",
    "len(lista_inteiros_2)"
   ]
  },
  {
   "cell_type": "code",
   "execution_count": 3,
   "metadata": {},
   "outputs": [
    {
     "name": "stdout",
     "output_type": "stream",
     "text": [
      "3\n"
     ]
    }
   ],
   "source": [
    "lista_letras =['a', 'b', 'c', 'a', 'a']\n",
    "\n",
    "# Contando o número de elementos em ordem numérica ou alfabética, com -> .count()\n",
    "n_vezes = lista_letras.count('a')\n",
    "\n",
    "print(n_vezes)"
   ]
  },
  {
   "cell_type": "code",
   "execution_count": 4,
   "metadata": {},
   "outputs": [
    {
     "name": "stdout",
     "output_type": "stream",
     "text": [
      "[1, 3, 5, 8, 10]\n"
     ]
    }
   ],
   "source": [
    "lista_3 = [1, 10, 5, 3, 8]\n",
    "\n",
    "# Reordenadno os elementos em ordem numérica ou alfabética\n",
    "lista_3.sort()\n",
    "\n",
    "print(lista_3)"
   ]
  },
  {
   "cell_type": "code",
   "execution_count": 5,
   "metadata": {},
   "outputs": [
    {
     "name": "stdout",
     "output_type": "stream",
     "text": [
      "['1', '10', '2', '5', 'a', 'a', 'a', 'b', 'c']\n"
     ]
    }
   ],
   "source": [
    "lista_4 = ['a', 'b', 'c', 'a', 'a', '10', '2', '1', '5']\n",
    "lista_4.sort()\n",
    "\n",
    "print(lista_4)"
   ]
  },
  {
   "cell_type": "markdown",
   "metadata": {},
   "source": [
    "# Formas de Trabalhar com Listas "
   ]
  },
  {
   "cell_type": "code",
   "execution_count": 6,
   "metadata": {},
   "outputs": [
    {
     "name": "stdout",
     "output_type": "stream",
     "text": [
      "[0, 1, 4, 9, 16]\n"
     ]
    }
   ],
   "source": [
    "lista_quadrados = []\n",
    "\n",
    "for i in range(5):\n",
    "    lista_quadrados.append(i**2)\n",
    "print(lista_quadrados)"
   ]
  },
  {
   "cell_type": "code",
   "execution_count": 7,
   "metadata": {},
   "outputs": [
    {
     "name": "stdout",
     "output_type": "stream",
     "text": [
      "[0, 1, 2, 3, 4]\n"
     ]
    }
   ],
   "source": [
    "a = list(range(5))\n",
    "print(a)"
   ]
  },
  {
   "cell_type": "code",
   "execution_count": 8,
   "metadata": {},
   "outputs": [
    {
     "name": "stdout",
     "output_type": "stream",
     "text": [
      "[1, 4, 9, 16, 25]\n"
     ]
    }
   ],
   "source": [
    "numeros = [1,2,3,4,5]\n",
    "f = lambda x:x**2\n",
    "\n",
    "lista_5 = list(map(f, numeros))\n",
    "print(lista_5)\n"
   ]
  },
  {
   "cell_type": "code",
   "execution_count": 9,
   "metadata": {},
   "outputs": [
    {
     "name": "stdout",
     "output_type": "stream",
     "text": [
      "[0, 1, 4, 9, 16, 25]\n"
     ]
    }
   ],
   "source": [
    "quadrados = [x**2 for x in range(6)]\n",
    "print(quadrados)"
   ]
  },
  {
   "cell_type": "markdown",
   "metadata": {},
   "source": [
    "# Tuplas, conjuntos e dicionários"
   ]
  },
  {
   "cell_type": "code",
   "execution_count": 10,
   "metadata": {},
   "outputs": [
    {
     "name": "stdout",
     "output_type": "stream",
     "text": [
      "('a', 'e', 'i', 'o', 'u')\n",
      "<class 'tuple'>\n"
     ]
    },
    {
     "data": {
      "text/plain": [
       "5"
      ]
     },
     "execution_count": 10,
     "metadata": {},
     "output_type": "execute_result"
    }
   ],
   "source": [
    "vogais = ('a', 'e', 'i', 'o', 'u')\n",
    "vogais[0]\n",
    "\n",
    "print(vogais)\n",
    "print(type(vogais))\n",
    "len(vogais)"
   ]
  },
  {
   "cell_type": "code",
   "execution_count": 11,
   "metadata": {},
   "outputs": [
    {
     "name": "stdout",
     "output_type": "stream",
     "text": [
      "a\n",
      "e\n",
      "i\n",
      "o\n",
      "u\n",
      "<class 'list'>\n"
     ]
    }
   ],
   "source": [
    "vogais_list = ['a', 'e', 'i', 'o', 'u']\n",
    "\n",
    "for i in enumerate(vogais_list):\n",
    "    print(i[1])\n",
    "\n",
    "len(vogais_list)\n",
    "print(type(vogais_list))"
   ]
  },
  {
   "cell_type": "code",
   "execution_count": 12,
   "metadata": {},
   "outputs": [
    {
     "name": "stdout",
     "output_type": "stream",
     "text": [
      "{'i', 'a', 'o', 'e'}\n",
      "<class 'set'>\n"
     ]
    }
   ],
   "source": [
    "set_variaveis = {'e', 'i', 'o', 'a'}\n",
    "\n",
    "print(set_variaveis)\n",
    "len(set_variaveis)\n",
    "print(type(set_variaveis))\n"
   ]
  },
  {
   "cell_type": "code",
   "execution_count": 13,
   "metadata": {},
   "outputs": [
    {
     "name": "stdout",
     "output_type": "stream",
     "text": [
      "{'dia': 10, 'mes': 5}\n",
      "5\n",
      "<class 'dict'>\n"
     ]
    }
   ],
   "source": [
    "dict_1 = {'dia':10,'mes':5}\n",
    "\n",
    "print(dict_1)\n",
    "print(dict_1['mes'])\n",
    "len(dict_1)\n",
    "print(type(dict_1))"
   ]
  },
  {
   "cell_type": "markdown",
   "metadata": {},
   "source": [
    "# Métodos para dicionários"
   ]
  },
  {
   "cell_type": "code",
   "execution_count": 14,
   "metadata": {},
   "outputs": [
    {
     "name": "stdout",
     "output_type": "stream",
     "text": [
      "<class 'dict'>\n",
      "{'I': 1, 'II': 2, 'III': 3}\n",
      "4\n"
     ]
    }
   ],
   "source": [
    "alg_romanos = {'I':1,'II':2,'III':3,'IV':4}\n",
    "\n",
    "a = alg_romanos.pop('IV')\n",
    "\n",
    "len(alg_romanos)\n",
    "print(type(alg_romanos))\n",
    "\n",
    "print(alg_romanos)\n",
    "print(a)\n"
   ]
  },
  {
   "cell_type": "code",
   "execution_count": 15,
   "metadata": {},
   "outputs": [
    {
     "data": {
      "text/plain": [
       "[('I', 1), ('II', 2), ('III', 3)]"
      ]
     },
     "execution_count": 15,
     "metadata": {},
     "output_type": "execute_result"
    }
   ],
   "source": [
    "list(alg_romanos.items())"
   ]
  },
  {
   "cell_type": "code",
   "execution_count": 16,
   "metadata": {},
   "outputs": [
    {
     "data": {
      "text/plain": [
       "['I', 'II', 'III']"
      ]
     },
     "execution_count": 16,
     "metadata": {},
     "output_type": "execute_result"
    }
   ],
   "source": [
    "list(alg_romanos.keys())"
   ]
  },
  {
   "cell_type": "code",
   "execution_count": 17,
   "metadata": {},
   "outputs": [
    {
     "name": "stdout",
     "output_type": "stream",
     "text": [
      "[1, 2, 3]\n",
      "<class 'list'>\n"
     ]
    }
   ],
   "source": [
    "b = list(alg_romanos.values())\n",
    "print(b)\n",
    "print(type(b))"
   ]
  },
  {
   "cell_type": "code",
   "execution_count": 18,
   "metadata": {},
   "outputs": [],
   "source": [
    "a = alg_romanos.get('I', 'II')"
   ]
  },
  {
   "cell_type": "markdown",
   "metadata": {},
   "source": [
    "## Exercício - 1\n",
    "\n",
    "Dada a lista **['P','A','Y','A','T','A','H','O','N']**, conte o número de variáveis 'A' e utilize um loop para remover todos os 'A' excedente."
   ]
  },
  {
   "cell_type": "code",
   "execution_count": 12,
   "metadata": {},
   "outputs": [
    {
     "name": "stdout",
     "output_type": "stream",
     "text": [
      "['P', 'Y', 'T', 'H', 'O', 'N']\n"
     ]
    }
   ],
   "source": [
    "\n",
    "\n",
    "\n",
    "Lista_1 = ['P','A','Y','A','T','A','H','O','N']\n",
    "\n",
    "numero_A = Lista_1.count('A')\n",
    "\n",
    "for i in enumerate(Lista_1):\n",
    "    letra = i[1]\n",
    "\n",
    "    if letra == 'A':\n",
    "        Lista_1.pop(i[0])\n",
    "\n",
    "print(Lista_1)\n",
    "\n"
   ]
  },
  {
   "cell_type": "markdown",
   "metadata": {},
   "source": [
    "# Exercício - 2\n",
    "\n",
    "Utilizando somente uma linha de programação, crie uma lista que contenha os números ímpares de 1 a 51."
   ]
  },
  {
   "cell_type": "code",
   "execution_count": 13,
   "metadata": {},
   "outputs": [
    {
     "name": "stdout",
     "output_type": "stream",
     "text": [
      "[1, 3, 5, 7, 9, 11, 13, 15, 17, 19, 21, 23, 25, 27, 29, 31, 33, 35, 37, 39, 41, 43, 45, 47, 49, 51]\n"
     ]
    }
   ],
   "source": [
    "lista_impares = [(i*2+1) for i in range(26)]\n",
    "print(lista_impares)"
   ]
  },
  {
   "cell_type": "markdown",
   "metadata": {},
   "source": [
    "# Exercício - 3\n",
    "\n",
    "Crie um dicionário que correlacione as seguintes listas:\n",
    "\n",
    "+ **valores = [1,2,3,4,5]**\n",
    "+ **keys = ['a','b','c','d','e']**\n",
    "\n",
    "Utilize um loop."
   ]
  },
  {
   "cell_type": "code",
   "execution_count": 3,
   "metadata": {},
   "outputs": [
    {
     "name": "stdout",
     "output_type": "stream",
     "text": [
      "{'a': 1, 'b': 2, 'c': 3, 'd': 4, 'e': 5}\n",
      "<class 'dict'>\n"
     ]
    }
   ],
   "source": [
    "valores =[1,2,3,4,5]\n",
    "keys = ['a', 'b', 'c', 'd', 'e']\n",
    "\n",
    "dict_1 = {}\n",
    "\n",
    "for i in range(5):\n",
    "    dict_1[keys[i]] = valores[i]\n",
    "\n",
    "print(dict_1)\n",
    "len(dict_1)\n",
    "print(type(dict_1))\n",
    "    "
   ]
  },
  {
   "cell_type": "code",
   "execution_count": 2,
   "metadata": {},
   "outputs": [
    {
     "data": {
      "text/plain": [
       "{'ABC': 5}"
      ]
     },
     "execution_count": 2,
     "metadata": {},
     "output_type": "execute_result"
    }
   ],
   "source": [
    "dict_2 ={}\n",
    "\n",
    "dict_2['ABC'] = 5\n",
    "\n",
    "dict_2"
   ]
  },
  {
   "cell_type": "markdown",
   "metadata": {},
   "source": [
    "# Exercício - 4\n",
    "\n",
    "A partir do dicionário criado no exercício anterior, recrie as listas keys e valores."
   ]
  },
  {
   "cell_type": "code",
   "execution_count": 4,
   "metadata": {},
   "outputs": [
    {
     "name": "stdout",
     "output_type": "stream",
     "text": [
      "[1, 2, 3, 4, 5]\n",
      "['a', 'b', 'c', 'd', 'e']\n"
     ]
    }
   ],
   "source": [
    "dict_3 = {'a': 1, 'b': 2, 'c': 3, 'd': 4, 'e': 5}\n",
    "\n",
    "valores = list(dict_3.values())\n",
    "keys = list(dict_3.keys())\n",
    "\n",
    "print(valores)\n",
    "print(keys)"
   ]
  },
  {
   "cell_type": "markdown",
   "metadata": {},
   "source": [
    "# Preparação para o desafio 1 (MATPLOTLIB)\n"
   ]
  },
  {
   "cell_type": "code",
   "execution_count": null,
   "metadata": {},
   "outputs": [],
   "source": []
  },
  {
   "cell_type": "markdown",
   "metadata": {},
   "source": [
    "# Desafio 1 - Equação da circunferência\n",
    "\n",
    "Dada a equação da cirunferência, faça o gráfico\n",
    "\n",
    "$$\n",
    "{(x-a)}^{2} + {(y-b)}^{2} = {r}^{2}, \n",
    "r = 100, a = 100, b = 100\n",
    "$$"
   ]
  },
  {
   "cell_type": "code",
   "execution_count": null,
   "metadata": {},
   "outputs": [],
   "source": []
  },
  {
   "cell_type": "markdown",
   "metadata": {},
   "source": [
    "# Preparação para o desafio 2 (LENDO ARQUIVOS)"
   ]
  },
  {
   "cell_type": "code",
   "execution_count": null,
   "metadata": {},
   "outputs": [],
   "source": []
  },
  {
   "cell_type": "markdown",
   "metadata": {},
   "source": [
    "# Desafio - 2 - Dados do IBGE\n",
    "\n",
    "Importe a tabela dos 100 maiores municípios em relação ao PIB e responda as seguintes perguntas:\n",
    "\n",
    "+ **Quantos municípios estão no estado de São Paulo?**\n",
    "+ **Qual a participação acumulada desses municípios?**\n",
    "\n",
    "Dicas e informações:\n",
    "\n",
    "+ **Fonte dos dados:** https://www.ibge.gov.br/estatisticas/downloads-estatisticas.html\n",
    "+ **Arquivo para importar:**./IBGE-PIB_Municipios_2017/PIB_100_maiores_cidades_2017.txt\n",
    "+ **Para ler arquivos acesse o tópico 7.2 do link:**https://docs.python.org/3/tutorial/inputoutput.html\n"
   ]
  },
  {
   "cell_type": "code",
   "execution_count": null,
   "metadata": {},
   "outputs": [],
   "source": []
  },
  {
   "cell_type": "markdown",
   "metadata": {},
   "source": [
    "# Desafio - 2 - Dados do IBGE (usando PANDAS)\n",
    "https://pandas.pydata.org/pandas-docs/stable/reference/api/pandas.DataFrame.html\n",
    "\n"
   ]
  },
  {
   "cell_type": "code",
   "execution_count": null,
   "metadata": {},
   "outputs": [],
   "source": []
  }
 ],
 "metadata": {
  "kernelspec": {
   "display_name": "Python 3.9.12 ('base')",
   "language": "python",
   "name": "python3"
  },
  "language_info": {
   "codemirror_mode": {
    "name": "ipython",
    "version": 3
   },
   "file_extension": ".py",
   "mimetype": "text/x-python",
   "name": "python",
   "nbconvert_exporter": "python",
   "pygments_lexer": "ipython3",
   "version": "3.9.12"
  },
  "orig_nbformat": 4,
  "vscode": {
   "interpreter": {
    "hash": "7b5e7e6bd81ce6cf92c4ec268efb9c2f6a0e54f3ca70ade0ed2f7e7bb0333568"
   }
  }
 },
 "nbformat": 4,
 "nbformat_minor": 2
}
