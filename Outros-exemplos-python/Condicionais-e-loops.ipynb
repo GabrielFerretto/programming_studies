{
 "cells": [
  {
   "cell_type": "markdown",
   "metadata": {},
   "source": [
    "# Condicionais e loops\n",
    "Palavras chave: **Control flow ou Control structures**\n",
    "\n",
    "## Condicionais **if**\n",
    "\n",
    "### Construções\n",
    "\n",
    "+ **if** condição:\n",
    "+ **elif** condição:\n",
    "+ **else** condição:\n",
    "\n",
    "## Operações booleanas\n",
    "\n",
    "Além dos companheiros, também podemos fazer operações booleanas. Elas são úteis em estruturas condicionas. Duas delas são: **or** e **and**."
   ]
  },
  {
   "cell_type": "code",
   "execution_count": 1,
   "metadata": {},
   "outputs": [
    {
     "name": "stdout",
     "output_type": "stream",
     "text": [
      "positivo\n"
     ]
    }
   ],
   "source": [
    "x = 5\n",
    "\n",
    "if x > 0:\n",
    "    print(\"positivo\")\n",
    "elif x < 0:\n",
    "    print(\"negativo\")\n",
    "else:\n",
    "    print(\"nenhuma alternativa\")\n",
    "    "
   ]
  },
  {
   "cell_type": "code",
   "execution_count": 2,
   "metadata": {},
   "outputs": [
    {
     "name": "stdout",
     "output_type": "stream",
     "text": [
      "Matemática\n"
     ]
    }
   ],
   "source": [
    "x = \"Matemática\"\n",
    "\n",
    "if x == \"Matemática\":\n",
    "    print(x)"
   ]
  },
  {
   "cell_type": "code",
   "execution_count": 3,
   "metadata": {},
   "outputs": [
    {
     "name": "stdout",
     "output_type": "stream",
     "text": [
      "5\n"
     ]
    }
   ],
   "source": [
    "x = 5\n",
    "if type(x) is not str:\n",
    "    print(x)"
   ]
  },
  {
   "cell_type": "code",
   "execution_count": 4,
   "metadata": {},
   "outputs": [
    {
     "name": "stdout",
     "output_type": "stream",
     "text": [
      "-10\n"
     ]
    }
   ],
   "source": [
    "x = -10\n",
    "\n",
    "if x > 4 or x < 0:\n",
    "    print(x)"
   ]
  },
  {
   "cell_type": "markdown",
   "metadata": {},
   "source": [
    "# Loop **for**\n",
    "\n",
    "+ **for** vériavel **in** oque sera interado:\n",
    "\n",
    "Há uma série de tipos que podem ser utilizados como interadores, como:\n",
    "\n",
    "+ **ranger**: seus elementos são inteiros\n",
    "+ **list**: seus elementos são os que estão contidos na lista\n",
    "+ **enumerate**: seus elemtos são tuplas que contem inteiros e valores"
   ]
  },
  {
   "cell_type": "code",
   "execution_count": 5,
   "metadata": {},
   "outputs": [
    {
     "name": "stdout",
     "output_type": "stream",
     "text": [
      "0\n",
      "1\n",
      "2\n",
      "3\n",
      "4\n",
      "5\n",
      "6\n"
     ]
    }
   ],
   "source": [
    "lista = ['a', 2, 'b', 4, 5, 5, 'w']\n",
    "\n",
    "# Número de elementos de uma lista\n",
    "for i in range(len(lista)): \n",
    "    print(i)\n",
    " "
   ]
  },
  {
   "cell_type": "markdown",
   "metadata": {},
   "source": [
    "#### **Alterando a razão da progressão (inclusive com passos negativos)**"
   ]
  },
  {
   "cell_type": "code",
   "execution_count": 6,
   "metadata": {},
   "outputs": [
    {
     "name": "stdout",
     "output_type": "stream",
     "text": [
      "5\n",
      "6\n",
      "7\n",
      "8\n",
      "9\n"
     ]
    }
   ],
   "source": [
    "lista = ['a', 2, 'b', 4, 5, 5, 'w']\n",
    "\n",
    "for i in range(5, 10):\n",
    "    print(i)"
   ]
  },
  {
   "cell_type": "code",
   "execution_count": 7,
   "metadata": {},
   "outputs": [
    {
     "name": "stdout",
     "output_type": "stream",
     "text": [
      "0\n",
      "3\n",
      "6\n",
      "9\n"
     ]
    }
   ],
   "source": [
    "lista = ['a', 2, 'b', 4, 5, 5, 'w']\n",
    "\n",
    "for i in range(0, 10, 3):\n",
    "    print(i)"
   ]
  },
  {
   "cell_type": "code",
   "execution_count": 8,
   "metadata": {},
   "outputs": [
    {
     "name": "stdout",
     "output_type": "stream",
     "text": [
      "-10\n"
     ]
    }
   ],
   "source": [
    "lista = ['a', 2, 'b', 4, 5, 5, 'w']\n",
    "\n",
    "for i in range(-10, -100, -300):\n",
    "    print(i)"
   ]
  },
  {
   "cell_type": "markdown",
   "metadata": {},
   "source": [
    "# Enumerate"
   ]
  },
  {
   "cell_type": "code",
   "execution_count": 9,
   "metadata": {},
   "outputs": [
    {
     "data": {
      "text/plain": [
       "[(1, 'texto1'), (2, 'texto2'), (3, 'texto3')]"
      ]
     },
     "execution_count": 9,
     "metadata": {},
     "output_type": "execute_result"
    }
   ],
   "source": [
    "lst = [ \"texto1\", \"texto2\", \"texto3\" ]\n",
    "\n",
    "#list(enumerate(lst))\n",
    "list(enumerate(lst, start=1))"
   ]
  },
  {
   "cell_type": "code",
   "execution_count": 10,
   "metadata": {},
   "outputs": [
    {
     "name": "stdout",
     "output_type": "stream",
     "text": [
      "(0, 'bilbo')\n",
      "(1, 'a')\n",
      "(2, 2)\n",
      "(3, 'b')\n",
      "(4, 4)\n",
      "(5, 5)\n",
      "(6, 5)\n",
      "(7, 'w')\n"
     ]
    }
   ],
   "source": [
    "lista_2 = ['bilbo', 'a', 2, 'b', 4, 5, 5, 'w']\n",
    "\n",
    "# Retorna uma tupla para cada elemento\n",
    "for i in enumerate(lista_2):\n",
    "    #print(i[0])\n",
    "    print(i)"
   ]
  },
  {
   "cell_type": "markdown",
   "metadata": {},
   "source": [
    "# Loop **while**\n",
    "\n",
    "+ **while** condição:\n",
    "\n",
    "Enquanto a condição for verdadeira, o programa executará os comandos.\n",
    "Uma noção sobre tipos booleans é interessante para executar esse comando"
   ]
  },
  {
   "cell_type": "code",
   "execution_count": 11,
   "metadata": {},
   "outputs": [
    {
     "name": "stdout",
     "output_type": "stream",
     "text": [
      "10\n",
      "11\n",
      "12\n",
      "13\n",
      "14\n",
      "15\n",
      "16\n",
      "17\n",
      "18\n",
      "19\n",
      "20\n"
     ]
    }
   ],
   "source": [
    "x = 10\n",
    "\n",
    "while x > 5:\n",
    "    print(x)\n",
    "    #x=x-1\n",
    "    x += 1\n",
    "    if x > 20:\n",
    "        break"
   ]
  },
  {
   "cell_type": "markdown",
   "metadata": {},
   "source": [
    "# Exercício -> 1\n",
    "\n",
    "**Crie um condicional que, dada uma variável, faça as operaçôes:**\n",
    "\n",
    "+ Se for número positivo, retorna \"Número positivos\"\n",
    "+ Se for número negativo, retorna \"Número negativo\"\n",
    "+ Se for zero, retorna \"zero\"\n",
    "+ Se não for número, retorna \"Não é um número\"\n"
   ]
  },
  {
   "cell_type": "code",
   "execution_count": 12,
   "metadata": {},
   "outputs": [
    {
     "name": "stdout",
     "output_type": "stream",
     "text": [
      "Número positivo\n"
     ]
    }
   ],
   "source": [
    "x = 7\n",
    "\n",
    "if type(x) is str:\n",
    "    print(\"Não é um número: \")\n",
    "elif x > 0:\n",
    "    print(\"Número positivo\")\n",
    "elif x < 0:\n",
    "    print(\"Número negativo\")\n",
    "else:\n",
    "    print(\"Zero\")"
   ]
  },
  {
   "cell_type": "markdown",
   "metadata": {},
   "source": [
    "# Exercício -> 2\n",
    "\n",
    "Faça um loop **for** para criar uma lista que intercale os valores das listas a seguir:\n",
    "\n",
    "+ valores = [1, 2, 3, 4, 5]\n",
    "+ letras = [\"a\", \"b\", \"c\", \"d\", \"e\" ]\n",
    "\n",
    "**Dica:** você pode utilizar o método **.append()** que adciona um elemento ao final da lista "
   ]
  },
  {
   "cell_type": "code",
   "execution_count": 13,
   "metadata": {},
   "outputs": [
    {
     "data": {
      "text/plain": [
       "[1, 'a', 2, 'b', 3, 'c', 4, 'd', 5, 'e']"
      ]
     },
     "execution_count": 13,
     "metadata": {},
     "output_type": "execute_result"
    }
   ],
   "source": [
    "valores = [1, 2, 3, 4, 5]\n",
    "letras = [\"a\", \"b\", \"c\", \"d\", \"e\" ]\n",
    "\n",
    "nova_lista = []\n",
    "\n",
    "for i in range(5):\n",
    "    nova_lista.append(valores[i])\n",
    "    nova_lista.append(letras[i])\n",
    "    \n",
    "nova_lista\n"
   ]
  },
  {
   "cell_type": "markdown",
   "metadata": {},
   "source": [
    "# Exercício -> 3\n",
    "\n",
    "Dado um número inteiro, faça um operador while que calcule o fatorial desse número. Dicas: utilize as operações ***=** e também **-=**"
   ]
  },
  {
   "cell_type": "code",
   "execution_count": 14,
   "metadata": {},
   "outputs": [
    {
     "data": {
      "text/plain": [
       "120"
      ]
     },
     "execution_count": 14,
     "metadata": {},
     "output_type": "execute_result"
    }
   ],
   "source": [
    "# n! = (n)*(n-1)...(1)\n",
    "\n",
    "x = 5\n",
    "fact_x = 1\n",
    "\n",
    "if type(x) is int:\n",
    "    while x > 0:\n",
    "        fact_x *= x\n",
    "        x -= 1\n",
    "fact_x"
   ]
  },
  {
   "cell_type": "markdown",
   "metadata": {},
   "source": [
    "# Dasafio -> 1 - Números primos\n",
    "Crie uma lista os conquetas primeiros números primos.\n",
    "\n",
    "**Dica:** pode ser utilizado o comando **break** e continue"
   ]
  },
  {
   "cell_type": "code",
   "execution_count": 15,
   "metadata": {},
   "outputs": [
    {
     "name": "stdout",
     "output_type": "stream",
     "text": [
      "[2, 3, 5, 7, 11, 13, 17, 19, 23, 29, 31, 37, 41, 43, 47, 53, 59, 61, 67, 71, 73, 79, 83, 89, 97, 101, 103, 107, 109, 113, 127, 131, 137, 139, 149, 151, 157, 163, 167, 173, 179, 181, 191, 193, 197, 199, 211, 223, 227, 229]\n"
     ]
    },
    {
     "data": {
      "text/plain": [
       "50"
      ]
     },
     "execution_count": 15,
     "metadata": {},
     "output_type": "execute_result"
    }
   ],
   "source": [
    "lista_numeros_primos = [2]\n",
    "proximo_elemento = 2\n",
    "\n",
    "while len(lista_numeros_primos) < 50:\n",
    "    proximo_elemento += 1\n",
    "    proximo_elemento_status = \" \"\n",
    "\n",
    "    for elemento in lista_numeros_primos:\n",
    "        quocinete = proximo_elemento / elemento\n",
    "        quocinete_inteiro = proximo_elemento // elemento\n",
    "\n",
    "        if quocinete_inteiro == quocinete:\n",
    "            proximo_elemento_status = \"pula\"\n",
    "            break\n",
    "\n",
    "    if proximo_elemento_status == \"pula\":\n",
    "        continue\n",
    "    else:\n",
    "        lista_numeros_primos.append(proximo_elemento)\n",
    "\n",
    "print(lista_numeros_primos)\n",
    "len(lista_numeros_primos)\n"
   ]
  },
  {
   "cell_type": "markdown",
   "metadata": {},
   "source": []
  },
  {
   "cell_type": "markdown",
   "metadata": {},
   "source": [
    "# Desafio -> 2 - Combinação\n",
    "\n",
    "Crie uma lista de todas as palavras formadas com as letras: ARARA\n",
    "\n",
    "**Dica:** o problema se trata de uma permutação com elementos repetidos.\n",
    "\n",
    "\n",
    "$$\n",
    "P^{3,2}_{5} = \\frac{5!}{3!2!} = 10\n",
    "$$\n",
    "\n",
    "\n",
    "Anotações conforme: IEZZI, Gelson *et al*. Matemática: 1a série. São Paulo: Atual, 1981.\n",
    "\n",
    "\n",
    "\n"
   ]
  },
  {
   "cell_type": "code",
   "execution_count": 16,
   "metadata": {},
   "outputs": [
    {
     "name": "stdout",
     "output_type": "stream",
     "text": [
      "120\n"
     ]
    },
    {
     "data": {
      "text/plain": [
       "10"
      ]
     },
     "execution_count": 16,
     "metadata": {},
     "output_type": "execute_result"
    }
   ],
   "source": [
    "lista_de_letras = ['A', 'R', 'A', 'R', 'A']\n",
    "lista_de_palavras = []\n",
    "interacoes = 0\n",
    "\n",
    "for i5 in range(len(lista_de_letras)):\n",
    "    L5 = lista_de_letras[i5]\n",
    "    Lista_L5 = lista_de_letras.copy()\n",
    "    Lista_L4 = Lista_L5.copy()\n",
    "    Lista_L4.pop(i5)\n",
    "\n",
    "    for i4 in range(len(Lista_L4)):\n",
    "        L4 = Lista_L4[i4]\n",
    "        Lista_L3 = Lista_L4.copy()\n",
    "        Lista_L3.pop(i4)\n",
    "\n",
    "        for i3 in range(len(Lista_L3)):\n",
    "            L3 = Lista_L3[i3]\n",
    "            Lista_L2 = Lista_L3.copy()\n",
    "            Lista_L2.pop(i3)\n",
    "\n",
    "            for i2 in range(len(Lista_L2)):\n",
    "                L2 = Lista_L2[i2]\n",
    "                Lista_L1 = Lista_L2.copy()\n",
    "                Lista_L1.pop(i2)\n",
    "\n",
    "                for i1 in range(len(Lista_L1)):\n",
    "                    L1 = Lista_L1[i1]\n",
    "                    palavra = L5 + L4 + L3 + L2 + L1\n",
    "\n",
    "                    interacoes += 1\n",
    "\n",
    "                    if palavra not in lista_de_palavras:\n",
    "                        lista_de_palavras.append(palavra)\n",
    "\n",
    "print(interacoes)\n",
    "len(lista_de_palavras)"
   ]
  }
 ],
 "metadata": {
  "kernelspec": {
   "display_name": "Python 3.9.12 ('base')",
   "language": "python",
   "name": "python3"
  },
  "language_info": {
   "codemirror_mode": {
    "name": "ipython",
    "version": 3
   },
   "file_extension": ".py",
   "mimetype": "text/x-python",
   "name": "python",
   "nbconvert_exporter": "python",
   "pygments_lexer": "ipython3",
   "version": "3.9.12"
  },
  "orig_nbformat": 4,
  "vscode": {
   "interpreter": {
    "hash": "7b5e7e6bd81ce6cf92c4ec268efb9c2f6a0e54f3ca70ade0ed2f7e7bb0333568"
   }
  }
 },
 "nbformat": 4,
 "nbformat_minor": 2
}
